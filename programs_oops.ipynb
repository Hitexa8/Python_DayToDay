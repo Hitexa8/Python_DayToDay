{
 "cells": [
  {
   "cell_type": "code",
   "execution_count": null,
   "metadata": {},
   "outputs": [],
   "source": [
    "import numpy as np"
   ]
  },
  {
   "cell_type": "code",
   "execution_count": null,
   "metadata": {},
   "outputs": [],
   "source": [
    "# implement a python class hirarchy for endling fractions.\n",
    "# step-1 :- define an abstract base class FractionBase with 3 methods 1)__add__ 2)simplify 3)__str__ as abstract mehtod.\n",
    "# step-2 :- implement a concrete class Fraction which inherits from FractionBase.\n",
    "# step-3 :- str method of fraction should return the string representation of fraction.\n",
    "# step-4 :- simplify method should reduce the fraction.\n",
    "# step-5 :- add method should add two fractions."
   ]
  },
  {
   "cell_type": "code",
   "execution_count": 26,
   "metadata": {},
   "outputs": [
    {
     "name": "stdout",
     "output_type": "stream",
     "text": [
      "addition of two fraction 5/6\n",
      "given fraction is 1/2\n",
      "given fraction is 1/3\n",
      "given fraction is 1.0/2.0\n"
     ]
    }
   ],
   "source": [
    "from abc import ABC,abstractmethod\n",
    "class FractionBase(ABC):\n",
    "    @abstractmethod\n",
    "    def __add__(self):\n",
    "        pass\n",
    "    @abstractmethod   \n",
    "    def simplify(self):\n",
    "        pass\n",
    "    @abstractmethod\n",
    "    def __str__(self):\n",
    "        pass\n",
    "class Fraction(FractionBase):\n",
    "    def __init__(self,a1,b1):\n",
    "        self.a1=a1\n",
    "        self.b1=b1\n",
    "        \n",
    "    def __str__(self):\n",
    "        return f\"given fraction is {self.a1}/{self.b1}\"\n",
    "    \n",
    "    def simplify(self):\n",
    "        gcd=1\n",
    "        for i in range(1,self.a1+1):\n",
    "            if self.a1%i==0 and self.b1%i==0:\n",
    "                gcd=i\n",
    "        self.a1=self.a1/gcd\n",
    "        self.b1=self.b1/gcd\n",
    "        return f\"reduce fraction is {self.a1}/{self.b1}\"\n",
    "    \n",
    "    def __add__(self,other):\n",
    "        for i in range(1,self.b1+1):\n",
    "            if self.b1%i==0 and other.b1%i==0:\n",
    "                gcd=i\n",
    "        lcm=(self.b1*other.b1)//gcd\n",
    "        new_b1=lcm//self.b1\n",
    "        new_b2=lcm//other.b1\n",
    "        new_a1=self.a1*new_b1\n",
    "        new_a2=other.a1*new_b2\n",
    "        sum=new_a1+new_a2\n",
    "        return f\"addition of two fraction {sum}/{lcm}\"\n",
    "f1=Fraction(1,2)\n",
    "f2=Fraction(1,3)\n",
    "print(f1+f2)\n",
    "print(f1)\n",
    "print(f2)\n",
    "f1.simplify()\n",
    "print(f1)"
   ]
  },
  {
   "cell_type": "markdown",
   "metadata": {},
   "source": [
    "### implement python class money to handle monetary values in rupee and paisa class should provide  functionalities 1)add 2)sub 3)compare 4)calculation of total amount based on quantity.Write a necessary methods like __add__ , __sub__ , __ge__ , __str__ , CalculateTotal(self,quan),price_for_item(self,total,quantity).\n"
   ]
  },
  {
   "cell_type": "code",
   "execution_count": 51,
   "metadata": {},
   "outputs": [
    {
     "name": "stdout",
     "output_type": "stream",
     "text": [
      "31Rs 0Paisa\n",
      "Not enough money\n",
      "None\n",
      "20 is greater\n"
     ]
    }
   ],
   "source": [
    "class NoMoneyException(Exception):\n",
    "    def __init__(self,msg):\n",
    "        self.msg=msg\n",
    "class Money:\n",
    "    def __init__(self,rs,paisa):\n",
    "        self.rs=rs\n",
    "        self.paisa=paisa\n",
    "    def __add__(self,other):\n",
    "        total_paisa=self.paisa+other.paisa\n",
    "        total_rs=0\n",
    "        while total_paisa>=100:\n",
    "            total_rs+=1\n",
    "            total_paisa-=100\n",
    "        sum=self.rs+other.rs+total_rs\n",
    "        return f\"{sum}Rs {total_paisa}Paisa\"\n",
    "    def __sub__(self,other):\n",
    "        sub_rs=self.rs-other.rs\n",
    "        sub_paisa=self.paisa-other.paisa\n",
    "        try:\n",
    "            if sub_rs<0:\n",
    "                raise NoMoneyException(\"Not enough money\")\n",
    "            else:\n",
    "                return f\"{sub_rs}Rs {sub_paisa}Paisa\"\n",
    "        except NoMoneyException as e:\n",
    "            print(e)\n",
    "         \n",
    "    def __ge__(self,other):\n",
    "        if self.rs>other.rs:\n",
    "            return f\"{self.rs} is greater\"\n",
    "        else:\n",
    "            return f\"{other.rs} is greater\"\n",
    "    def __str__(self):\n",
    "        pass\n",
    "    def CalculateTotal(self,quan,price):\n",
    "        total_price=price*quan\n",
    "        return total_price\n",
    "    def price_for_item(self,total,quantity):\n",
    "        \n",
    "m1=Money(10,50)\n",
    "m2=Money(20,50)\n",
    "print(m1+m2)\n",
    "print(m1-m2)\n",
    "print(m1>=m2)"
   ]
  },
  {
   "cell_type": "code",
   "execution_count": null,
   "metadata": {},
   "outputs": [],
   "source": []
  }
 ],
 "metadata": {
  "kernelspec": {
   "display_name": "Python 3",
   "language": "python",
   "name": "python3"
  },
  "language_info": {
   "codemirror_mode": {
    "name": "ipython",
    "version": 3
   },
   "file_extension": ".py",
   "mimetype": "text/x-python",
   "name": "python",
   "nbconvert_exporter": "python",
   "pygments_lexer": "ipython3",
   "version": "3.8.5"
  }
 },
 "nbformat": 4,
 "nbformat_minor": 4
}
