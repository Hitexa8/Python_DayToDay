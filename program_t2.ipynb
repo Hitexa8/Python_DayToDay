{
 "cells": [
  {
   "cell_type": "code",
   "execution_count": null,
   "metadata": {},
   "outputs": [],
   "source": [
    "# Given an array of integers return indices of two number such that they add upto a specific target.\n",
    "# you may assume that every input would have exactly one soln and you may not use same element twice.\n",
    "# eg:-[2,7,11,15] supppose target is 9\n",
    "l=eval(input(\"Enter lsit \"))\n",
    "l1=[]\n",
    "target=int(input(\"Enter target here: \"))\n",
    "for i in range(0,len(l)-1):\n",
    "    for j in range(i+1,len(l)):\n",
    "        if l[i]+l[j]==target:\n",
    "            l1.extend([i,j])\n",
    "            break\n",
    "        else:\n",
    "            continue\n",
    "print(l1) "
   ]
  },
  {
   "cell_type": "code",
   "execution_count": null,
   "metadata": {},
   "outputs": [],
   "source": [
    "# [-7,-3,11,2,3]\n",
    "l=[-7,-3,11,2,3]\n",
    "l.sort()\n",
    "square=[]\n",
    "for i in l:\n",
    "    square.extend([i**2])\n",
    "square.sort()\n",
    "print(square)"
   ]
  },
  {
   "cell_type": "code",
   "execution_count": null,
   "metadata": {},
   "outputs": [],
   "source": [
    "numbers=[-7,-3,11,2,3]\n",
    "square=list(map(lambda x:x**2,numbers)\n",
    "print(square)"
   ]
  },
  {
   "cell_type": "code",
   "execution_count": 9,
   "metadata": {},
   "outputs": [
    {
     "name": "stdout",
     "output_type": "stream",
     "text": [
      "PRWSOERIUSE\n",
      "\n",
      "\n",
      "\n",
      "\n",
      "\n",
      "\n",
      "\n",
      "\n",
      "\n",
      "\n",
      "\n",
      "\n",
      "\n",
      "\n",
      "\n",
      "\n",
      "\n",
      "\n",
      "\n",
      "\n",
      "\n",
      "\n",
      "\n",
      "\n",
      "\n",
      "\n",
      "\n",
      "\n",
      "\n",
      "\n",
      "\n",
      "\n",
      "\n",
      "\n",
      "\n"
     ]
    }
   ],
   "source": [
    "# WAP to find minimum window in a given string which will contain all characters of another given\n",
    "# string. eg:- str1='PRWSOERIUSEK' str2='OSU' minimum window='OERSIUS'\n",
    "# str1='PRWSOERIUSEK' \n",
    "# str2='OSU' \n",
    "# l=[]\n",
    "# for i in range(len(str1)):\n",
    "#     for char in str2:\n",
    "#         if  str1.find(char):\n",
    "#             l.append(str1[i])\n",
    "# for k in range(len(l)):\n",
    "#     print(str1[k:k-1])\n",
    "def minWindow(s,t):\n",
    "    counter_s={}\n",
    "    counter_t={}\n",
    "    for c in t:\n",
    "        counter_t[c]=counter_t.get(c,0)+1\n",
    "i=0\n",
    "j=0\n",
    "left=-1\n",
    "right=-1\n",
    "valid=0\n",
    "for i in range(len(s)):\n",
    "    while j<len(s) and valid<len(counter_t):\n",
    "        counter_s[s[j]]=counter_s.get(s[j],0)+1\n",
    "        if s[j] in counter_t and counter_s[s[j]]==counter_t[s[j]]:\n",
    "            valid+=1\n",
    "        j+=1\n",
    "    if valid=len(counter_t):\n",
    "        if left==1 or j-1<right-left:\n",
    "            left=i\n",
    "            right=j"
   ]
  },
  {
   "cell_type": "code",
   "execution_count": 11,
   "metadata": {},
   "outputs": [
    {
     "name": "stdout",
     "output_type": "stream",
     "text": [
      "g o o\n",
      "g l e\n",
      "s i g\n",
      "o i r\n"
     ]
    }
   ],
   "source": [
    "# input=googleishiring row->3\n",
    "# output=g   l   h  n\n",
    "#        o g e s i  g\n",
    "#        o   i   r"
   ]
  },
  {
   "cell_type": "code",
   "execution_count": null,
   "metadata": {},
   "outputs": [],
   "source": []
  }
 ],
 "metadata": {
  "kernelspec": {
   "display_name": "Python 3",
   "language": "python",
   "name": "python3"
  },
  "language_info": {
   "codemirror_mode": {
    "name": "ipython",
    "version": 3
   },
   "file_extension": ".py",
   "mimetype": "text/x-python",
   "name": "python",
   "nbconvert_exporter": "python",
   "pygments_lexer": "ipython3",
   "version": "3.8.5"
  }
 },
 "nbformat": 4,
 "nbformat_minor": 4
}
