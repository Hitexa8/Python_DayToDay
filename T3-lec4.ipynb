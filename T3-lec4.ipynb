{
 "cells": [
  {
   "cell_type": "markdown",
   "metadata": {},
   "source": [
    "## Heading\n",
    "print(\"Hello world\")"
   ]
  },
  {
   "cell_type": "code",
   "execution_count": null,
   "metadata": {},
   "outputs": [],
   "source": [
    "%%writefile mod.py\n",
    "s = \"If Comrade Napoleon says it, it must be right.\"\n",
    "a = [100, 200, 300]\n",
    "\n",
    "def foo(arg):\n",
    "    print(f'arg = {arg}')"
   ]
  },
  {
   "cell_type": "code",
   "execution_count": null,
   "metadata": {},
   "outputs": [],
   "source": [
    "import mod\n",
    "print(mod.s)\n",
    "mod.a\n",
    "mod.foo(['quux', 'corge', 'grault'])"
   ]
  },
  {
   "cell_type": "code",
   "execution_count": null,
   "metadata": {},
   "outputs": [],
   "source": [
    "%%writefile calculator.py\n",
    "def add(a,b):\n",
    "    print(\"sum is:\",a+b)\n",
    "def sub(a,b):\n",
    "    print(\"subtraction is:\",a-b)\n",
    "def div(a,b):\n",
    "    print(\"divison is:\",a/b)\n",
    "def mul(a,b):\n",
    "    print(\"multiplication is:\",a*b)"
   ]
  },
  {
   "cell_type": "code",
   "execution_count": null,
   "metadata": {},
   "outputs": [],
   "source": [
    "import calculator\n",
    "a=int(input(\"Enter a:\"))\n",
    "b=int(input(\"Enter b:\"))\n",
    "calculator.add(a,b)\n",
    "calculator.sub(a,b)\n",
    "calculator.div(a,b)\n",
    "calculator.mul(a,b)"
   ]
  },
  {
   "cell_type": "code",
   "execution_count": null,
   "metadata": {},
   "outputs": [],
   "source": [
    "import os\n",
    "print(os.getcwd()) #current working directory\n",
    "os.chdir(\"D:\\\\html lectures\") #change the directory\n"
   ]
  },
  {
   "cell_type": "code",
   "execution_count": null,
   "metadata": {},
   "outputs": [],
   "source": [
    "os.mkdir(\"NewPython\")\n",
    "os.mkdir(\"NewPython/new\")"
   ]
  },
  {
   "cell_type": "code",
   "execution_count": null,
   "metadata": {},
   "outputs": [],
   "source": [
    "os.listdir() #if path is given then show folders and file of that path else show root directory folder"
   ]
  },
  {
   "cell_type": "code",
   "execution_count": null,
   "metadata": {},
   "outputs": [],
   "source": [
    "os.remove(\"D:\\HTML Lectures\\\\hii.txt\") #remove file"
   ]
  },
  {
   "cell_type": "code",
   "execution_count": null,
   "metadata": {},
   "outputs": [],
   "source": [
    "os.rmdir(\"NewPython\") #remove directory  only when directory is empty"
   ]
  },
  {
   "cell_type": "code",
   "execution_count": null,
   "metadata": {},
   "outputs": [],
   "source": [
    "import math"
   ]
  },
  {
   "cell_type": "code",
   "execution_count": null,
   "metadata": {},
   "outputs": [],
   "source": [
    "math.e\n",
    "math.pi"
   ]
  },
  {
   "cell_type": "code",
   "execution_count": null,
   "metadata": {},
   "outputs": [],
   "source": [
    "from math import pi,e\n",
    "pi"
   ]
  },
  {
   "cell_type": "code",
   "execution_count": null,
   "metadata": {},
   "outputs": [],
   "source": [
    "from math import pi as hitexa\n",
    "hitexa"
   ]
  },
  {
   "cell_type": "code",
   "execution_count": null,
   "metadata": {},
   "outputs": [],
   "source": [
    "import os\n",
    "os.mkdir(\"pkg\")"
   ]
  },
  {
   "cell_type": "code",
   "execution_count": null,
   "metadata": {},
   "outputs": [],
   "source": [
    "%%writefile pkg/mod1.py\n",
    "def m1():\n",
    "    print(\"from m1\")"
   ]
  },
  {
   "cell_type": "code",
   "execution_count": null,
   "metadata": {},
   "outputs": [],
   "source": [
    "%%writefile pkg/mod2.py\n",
    "def m2():\n",
    "    print(\"from m2\")"
   ]
  },
  {
   "cell_type": "code",
   "execution_count": null,
   "metadata": {},
   "outputs": [],
   "source": [
    "import pkg.mod1\n",
    "pkg.mod1.m1()\n",
    "\n",
    "import pkg.mod2\n",
    "pkg.mod2.m2()"
   ]
  },
  {
   "cell_type": "code",
   "execution_count": 6,
   "metadata": {},
   "outputs": [],
   "source": [
    "# Write a program to filter the characters upto length 80 if there is any word at the end of line\n",
    "# then break the word and push it to the next line\n",
    "f=open(\"D:\\\\Swami_Vivekananda_speech.txt\")\n",
    "wr=open(\"newfiles1.txt\",'a')\n",
    "while(True):\n",
    "    line=f.readline()\n",
    "    if len(line)!=0:\n",
    "        c=0\n",
    "        for i in range(0,len(line)):\n",
    "            c+=1\n",
    "            if c==80:\n",
    "                wr.write(line[0:80]+'\\n'+line[80:len(line)])\n",
    "    else:\n",
    "        break\n",
    "wr.close()\n",
    "        \n",
    "    "
   ]
  },
  {
   "cell_type": "code",
   "execution_count": null,
   "metadata": {},
   "outputs": [],
   "source": []
  },
  {
   "cell_type": "code",
   "execution_count": null,
   "metadata": {},
   "outputs": [],
   "source": []
  }
 ],
 "metadata": {
  "kernelspec": {
   "display_name": "Python 3",
   "language": "python",
   "name": "python3"
  }
 },
 "nbformat": 4,
 "nbformat_minor": 4
}
