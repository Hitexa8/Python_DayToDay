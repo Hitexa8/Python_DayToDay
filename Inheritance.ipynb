{
 "cells": [
  {
   "cell_type": "code",
   "execution_count": 3,
   "metadata": {},
   "outputs": [
    {
     "name": "stdout",
     "output_type": "stream",
     "text": [
      "Creator of Python Hitexa\n",
      "Creator of Java Disha\n"
     ]
    }
   ],
   "source": [
    "class PyProg:\n",
    "    def __init__(self,name):\n",
    "        self.name=name\n",
    "    def show(self):\n",
    "        print(\"Creator of Python\",self.name)\n",
    "class JavaProg:\n",
    "    def __init__(self,name):\n",
    "        self.name=name\n",
    "    def show(self):\n",
    "        print(\"Creator of Java\",self.name)\n",
    "p1=PyProg(\"Hitexa\")\n",
    "p1.show()\n",
    "p2=JavaProg(\"Disha\")\n",
    "p2.show()"
   ]
  },
  {
   "cell_type": "code",
   "execution_count": 6,
   "metadata": {},
   "outputs": [
    {
     "name": "stdout",
     "output_type": "stream",
     "text": [
      "Creator of Python Rahul\n"
     ]
    }
   ],
   "source": [
    "# single inheritance\n",
    "class Person:\n",
    "    def __init__(self,name):\n",
    "        self.name=name\n",
    "    def show(self):\n",
    "        print(\"Creator of Python\",self.name)\n",
    "class Professor(Person):\n",
    "    pass\n",
    "p1=Professor(\"Rahul\")\n",
    "p1.show()"
   ]
  },
  {
   "cell_type": "code",
   "execution_count": 11,
   "metadata": {},
   "outputs": [
    {
     "name": "stdout",
     "output_type": "stream",
     "text": [
      "Rahul is a teacher\n",
      "Sakshi is a student\n"
     ]
    }
   ],
   "source": [
    "# Multilevel inheritance\n",
    "class Person:\n",
    "    def __init__(self,name):\n",
    "        self.name=name\n",
    "class Professor(Person):\n",
    "    def show(self):\n",
    "        print(self.name,\"is a teacher\")\n",
    "class Student(Professor):\n",
    "    def show(self):\n",
    "        print(self.name,\"is a student\")\n",
    "p1=Professor(\"Rahul\")\n",
    "p1.show()\n",
    "p2=Student(\"Sakshi\")\n",
    "p2.show()"
   ]
  },
  {
   "cell_type": "code",
   "execution_count": null,
   "metadata": {},
   "outputs": [],
   "source": [
    "# Hirarchical inheritance\n",
    "class Person:\n",
    "    def __init__(self,name):\n",
    "        self.name=name\n",
    "class Professor(Person):\n",
    "    def show(self):\n",
    "        print(self.name,\"is a teacher\")\n",
    "class Student(Person):\n",
    "    def show(self):\n",
    "        print(self.name,\"is a student\")\n",
    "p1=Professor(\"Rahul\")\n",
    "p1.show()\n",
    "p2=Student(\"Sakshi\")\n",
    "p2.show()"
   ]
  },
  {
   "cell_type": "code",
   "execution_count": 10,
   "metadata": {},
   "outputs": [
    {
     "name": "stdout",
     "output_type": "stream",
     "text": [
      "Rahul is a person\n"
     ]
    }
   ],
   "source": [
    "# Multiple Inheritance\n",
    "class person:\n",
    "    def __init__(self,name):\n",
    "        self.name=name\n",
    "    def show(self):\n",
    "        print(self.name,\"is a person\")\n",
    "class Teacher:\n",
    "    def credit(self):\n",
    "        print(self.name,\"is a teacher\")\n",
    "class PyProg(person,Teacher):\n",
    "    pass\n",
    "p1=PyProg(\"Rahul\")\n",
    "p1.show()"
   ]
  },
  {
   "cell_type": "code",
   "execution_count": 22,
   "metadata": {},
   "outputs": [
    {
     "name": "stdout",
     "output_type": "stream",
     "text": [
      "from child\n",
      "From parent\n",
      "back to parent\n"
     ]
    }
   ],
   "source": [
    "# super()\n",
    "class MyClass:\n",
    "    def fun(self):\n",
    "        print(\"From parent\")\n",
    "class child(MyClass):\n",
    "    def fun(self):\n",
    "        print(\"from child\")\n",
    "        super().fun()\n",
    "        print(\"back to parent\")\n",
    "p1=child()\n",
    "p1.fun()"
   ]
  },
  {
   "cell_type": "code",
   "execution_count": null,
   "metadata": {},
   "outputs": [],
   "source": []
  }
 ],
 "metadata": {
  "kernelspec": {
   "display_name": "Python 3",
   "language": "python",
   "name": "python3"
  },
  "language_info": {
   "codemirror_mode": {
    "name": "ipython",
    "version": 3
   },
   "file_extension": ".py",
   "mimetype": "text/x-python",
   "name": "python",
   "nbconvert_exporter": "python",
   "pygments_lexer": "ipython3",
   "version": "3.8.5"
  }
 },
 "nbformat": 4,
 "nbformat_minor": 4
}
