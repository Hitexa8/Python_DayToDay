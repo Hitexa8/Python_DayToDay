{
 "cells": [
  {
   "cell_type": "code",
   "execution_count": null,
   "metadata": {},
   "outputs": [],
   "source": [
    "# write()\n",
    "f=open(\"hii.txt\",'w')\n",
    "f.write(\"WELCOME\")\n",
    "f.write(\"new\\n\")\n",
    "f.write(\"file\")\n",
    "f.close()"
   ]
  },
  {
   "cell_type": "code",
   "execution_count": 29,
   "metadata": {},
   "outputs": [
    {
     "data": {
      "text/plain": [
       "''"
      ]
     },
     "execution_count": 29,
     "metadata": {},
     "output_type": "execute_result"
    }
   ],
   "source": [
    "# writelines()\n",
    "# it always expect a list.\n",
    "f=open(\"python.txt\",'w')\n",
    "f.writelines(['hii','hello','python'])\n",
    "f.close()"
   ]
  },
  {
   "cell_type": "code",
   "execution_count": null,
   "metadata": {},
   "outputs": [],
   "source": [
    "# read([n])-method reads a string from a given file.\n",
    "# readline([n])-methods reads a single line from the file.\n",
    "#               The optional size parameter represent max number of bit including tralling new line character.If the end of is encounter it returns empty string.\n",
    "# readlines([n])-This method returns a list of lines.An optional size parameter causes whole line to be read instead of reading upto end of file.\n",
    "f=open(\"sample.txt\")\n",
    "# f.read(1)\n",
    "# f.read(2)\n",
    "# f.read(3)\n",
    "# f.read(4)\n",
    "# print(f.read(2))\n",
    "# print(f.read(3))\n",
    "# print(f.read(4))\n",
    "# print(f.read(5))\n",
    "# f.readline(1) #-->'h'\n",
    "# f.readline(2) #-->'ii'\n",
    "# f.readline(3) #-->'\\n'\n",
    "# f.readline(4) #-->'hell'\n",
    "# f.readline(5) #-->'o\\n'\n",
    "f.readlines(1) #-->['hii\\n']\n",
    "f.readlines(2) #-->['hello\\n']\n",
    "f.readlines(3) #-->[]\n",
    "# when we try to run in one f.readlines command by changing value it \n",
    "f.readlines(4)"
   ]
  },
  {
   "cell_type": "code",
   "execution_count": null,
   "metadata": {},
   "outputs": [],
   "source": [
    "%%writefile sample.txt\n",
    "hi\n",
    "hello"
   ]
  },
  {
   "cell_type": "code",
   "execution_count": 3,
   "metadata": {},
   "outputs": [
    {
     "name": "stdout",
     "output_type": "stream",
     "text": [
      "0\n",
      "hi\n",
      "2\n",
      "\n",
      "h\n",
      "5\n",
      "ello\n",
      "\n",
      "11\n"
     ]
    }
   ],
   "source": [
    "# tell() method returns the current position of the pointer.\n",
    "f=open(\"sample.txt\")\n",
    "print(f.tell())\n",
    "print(f.read(2))\n",
    "print(f.tell())\n",
    "print(f.read(2))\n",
    "print(f.tell())\n",
    "print(f.read(8))\n",
    "print(f.tell())"
   ]
  },
  {
   "cell_type": "code",
   "execution_count": 4,
   "metadata": {},
   "outputs": [
    {
     "name": "stdout",
     "output_type": "stream",
     "text": [
      "Writing seekfile.txt\n"
     ]
    }
   ],
   "source": [
    "%%writefile seekfile.txt\n",
    "hello\n",
    "hi\n",
    "how are you\n",
    "i am fine"
   ]
  },
  {
   "cell_type": "code",
   "execution_count": 19,
   "metadata": {},
   "outputs": [
    {
     "ename": "UnsupportedOperation",
     "evalue": "can't do nonzero cur-relative seeks",
     "output_type": "error",
     "traceback": [
      "\u001b[1;31m---------------------------------------------------------------------------\u001b[0m",
      "\u001b[1;31mUnsupportedOperation\u001b[0m                      Traceback (most recent call last)",
      "\u001b[1;32m<ipython-input-19-cdc9c2566f5b>\u001b[0m in \u001b[0;36m<module>\u001b[1;34m\u001b[0m\n\u001b[0;32m      3\u001b[0m \u001b[1;31m# f.seek() -->TypeError:seek expected at least 1 argument, got 0\u001b[0m\u001b[1;33m\u001b[0m\u001b[1;33m\u001b[0m\u001b[1;33m\u001b[0m\u001b[0m\n\u001b[0;32m      4\u001b[0m \u001b[0mf\u001b[0m\u001b[1;33m.\u001b[0m\u001b[0mseek\u001b[0m\u001b[1;33m(\u001b[0m\u001b[1;36m7\u001b[0m\u001b[1;33m)\u001b[0m\u001b[1;33m\u001b[0m\u001b[1;33m\u001b[0m\u001b[0m\n\u001b[1;32m----> 5\u001b[1;33m \u001b[0mf\u001b[0m\u001b[1;33m.\u001b[0m\u001b[0mseek\u001b[0m\u001b[1;33m(\u001b[0m\u001b[1;36m3\u001b[0m\u001b[1;33m,\u001b[0m\u001b[1;36m1\u001b[0m\u001b[1;33m)\u001b[0m\u001b[1;33m\u001b[0m\u001b[1;33m\u001b[0m\u001b[0m\n\u001b[0m\u001b[0;32m      6\u001b[0m \u001b[0mf\u001b[0m\u001b[1;33m.\u001b[0m\u001b[0mread\u001b[0m\u001b[1;33m(\u001b[0m\u001b[1;36m2\u001b[0m\u001b[1;33m)\u001b[0m\u001b[1;33m\u001b[0m\u001b[1;33m\u001b[0m\u001b[0m\n",
      "\u001b[1;31mUnsupportedOperation\u001b[0m: can't do nonzero cur-relative seeks"
     ]
    }
   ],
   "source": [
    "# seek() method sets the current file position at the offset.\n",
    "f=open(\"seekfile.txt\")\n",
    "# f.seek() -->TypeError:seek expected at least 1 argument, got 0\n",
    "f.seek(7)\n",
    "f.seek(1,2)\n",
    "f.read(2)"
   ]
  },
  {
   "cell_type": "code",
   "execution_count": 11,
   "metadata": {},
   "outputs": [
    {
     "name": "stdout",
     "output_type": "stream",
     "text": [
      "Help on built-in function seek:\n",
      "\n",
      "seek(cookie, whence=0, /) method of _io.TextIOWrapper instance\n",
      "    Change stream position.\n",
      "    \n",
      "    Change the stream position to the given byte offset. The offset is\n",
      "    interpreted relative to the position indicated by whence.  Values\n",
      "    for whence are:\n",
      "    \n",
      "    * 0 -- start of stream (the default); offset should be zero or positive\n",
      "    * 1 -- current stream position; offset may be negative\n",
      "    * 2 -- end of stream; offset is usually negative\n",
      "    \n",
      "    Return the new absolute position.\n",
      "\n"
     ]
    }
   ],
   "source": [
    "help(f.seek)"
   ]
  },
  {
   "cell_type": "code",
   "execution_count": 26,
   "metadata": {},
   "outputs": [
    {
     "name": "stdout",
     "output_type": "stream",
     "text": [
      "new file\n",
      "True\n"
     ]
    }
   ],
   "source": [
    "# CONTEXT MANAGER:-\n",
    "with open(\"new.txt\",'w+') as f:\n",
    "    f.write(\"new file\")\n",
    "    f.seek(0)\n",
    "    print(f.read())\n",
    "print(f.closed)"
   ]
  },
  {
   "cell_type": "code",
   "execution_count": 32,
   "metadata": {},
   "outputs": [
    {
     "name": "stdout",
     "output_type": "stream",
     "text": [
      "1\n"
     ]
    }
   ],
   "source": [
    "# create a file to check how many no. of lines are there.\n",
    "with open(\"newsss.txt\",'w+') as f:\n",
    "    f.writelines(['hello','world'])\n",
    "    f.seek(0)\n",
    "    l=f.readlines()\n",
    "    print(len(l))"
   ]
  },
  {
   "cell_type": "code",
   "execution_count": null,
   "metadata": {},
   "outputs": [],
   "source": []
  }
 ],
 "metadata": {
  "kernelspec": {
   "display_name": "Python 3",
   "language": "python",
   "name": "python3"
  },
  "language_info": {
   "codemirror_mode": {
    "name": "ipython",
    "version": 3
   },
   "file_extension": ".py",
   "mimetype": "text/x-python",
   "name": "python",
   "nbconvert_exporter": "python",
   "pygments_lexer": "ipython3",
   "version": "3.8.5"
  }
 },
 "nbformat": 4,
 "nbformat_minor": 4
}
