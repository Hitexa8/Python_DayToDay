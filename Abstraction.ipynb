{
 "cells": [
  {
   "cell_type": "code",
   "execution_count": null,
   "metadata": {},
   "outputs": [],
   "source": [
    "# shorturl.at/ghrSZ ->individual project\n",
    "# shorturl.at/htJLR ->group project"
   ]
  },
  {
   "cell_type": "code",
   "execution_count": null,
   "metadata": {},
   "outputs": [],
   "source": [
    "# Abstract class:This class is derived from abc import ABC,abstractcmethod.\n",
    "# ABC is a meta class which defines behaviour of other class.Abstract methods of abstract class must be define in child class.\n",
    "# It is used when common features are shared by all objects as they are."
   ]
  },
  {
   "cell_type": "code",
   "execution_count": null,
   "metadata": {},
   "outputs": [],
   "source": [
    "from abc import ABC,abstractmethod\n",
    "class Defence(ABC):\n",
    "    @abstractmethod\n",
    "    def area(self):\n",
    "        pass\n",
    "    def gun(self):\n",
    "        print(\"Gun is AK 47\")\n",
    "class Army(Defence):\n",
    "    def area(self):\n",
    "        print(\"Area is land\")\n",
    "class Navy(Defence):\n",
    "    def area(self):\n",
    "        print(\"Area is sea\")  \n",
    "a=Army()\n",
    "b=Navy()\n",
    "a.area()\n",
    "a.gun()\n",
    "b.area()\n",
    "b.gun()"
   ]
  },
  {
   "cell_type": "code",
   "execution_count": null,
   "metadata": {},
   "outputs": [],
   "source": [
    "# METHOD RESOLUTION ORDERS:(C3 Linearization algorithm)\n",
    "class A:\n",
    "    def which(self):\n",
    "        print(\"I am from A\")\n",
    "class B(A):\n",
    "    def which(self):\n",
    "        print(\"I am from B\")\n",
    "#         super().which()\n",
    "class C(A):\n",
    "    def which(self):\n",
    "        print(\"I am from C\")\n",
    "        super().which()\n",
    "class D(C,B):\n",
    "    def which(self):\n",
    "        print(\"I am from D\")\n",
    "        super().which()\n",
    "d=D()\n",
    "d.which()"
   ]
  },
  {
   "cell_type": "code",
   "execution_count": null,
   "metadata": {},
   "outputs": [],
   "source": [
    "C.mro()"
   ]
  },
  {
   "cell_type": "code",
   "execution_count": null,
   "metadata": {},
   "outputs": [],
   "source": [
    "D.mro()"
   ]
  },
  {
   "cell_type": "code",
   "execution_count": null,
   "metadata": {},
   "outputs": [],
   "source": [
    "class F:\n",
    "    pass\n",
    "class E:\n",
    "    pass\n",
    "class D:\n",
    "    pass\n",
    "class C(D,F):\n",
    "    pass\n",
    "class B(D,E):\n",
    "    pass\n",
    "class A(B,C):\n",
    "    pass\n",
    "# Algorithm\n",
    "# STEP-1:-\n",
    "# MRO OF D,E,F\n",
    "# L(D)=DO\n",
    "# L[E]=EO\n",
    "# L[F]=FO\n",
    "\n",
    "# STEP-2:-\n",
    "# MRO OF B\n",
    "# L(B)=B+merge(L(D)+L(E)+DE)\n",
    "#     =B+merge(DO+EO+DE)\n",
    "#     =B+D+merge(O+EO+E)\n",
    "#      =B+D+E+O\n"
   ]
  },
  {
   "cell_type": "code",
   "execution_count": null,
   "metadata": {},
   "outputs": [],
   "source": [
    "class A:\n",
    "    pass\n",
    "class B:\n",
    "    pass\n",
    "class C(A,B):\n",
    "    pass\n",
    "class D(C,B):\n",
    "    pass\n",
    "class E(D,C):\n",
    "    pass\n",
    "e=E()"
   ]
  },
  {
   "cell_type": "code",
   "execution_count": null,
   "metadata": {},
   "outputs": [],
   "source": [
    "E.mro()"
   ]
  },
  {
   "cell_type": "code",
   "execution_count": null,
   "metadata": {},
   "outputs": [],
   "source": [
    "# DUNDER/SPECIAL/MAGIC METHOD:-\n",
    "class Book:\n",
    "    def __init__(self,title,author,pages):\n",
    "        print(\"A book created\")\n",
    "        self.title=title\n",
    "        self.author=author\n",
    "        self.pages=pages\n",
    "    def __str__(self):\n",
    "        print(f\"A {self.title} book by {self.author}\")\n",
    "    def __len__(self):\n",
    "        return self.pages\n",
    "    def __del__(self):\n",
    "        print(\"Book destroyed\")"
   ]
  },
  {
   "cell_type": "code",
   "execution_count": null,
   "metadata": {},
   "outputs": [],
   "source": [
    "book=Book(\"Vampire Diaries\",\"Julie\",1020)"
   ]
  },
  {
   "cell_type": "code",
   "execution_count": null,
   "metadata": {
    "scrolled": true
   },
   "outputs": [],
   "source": [
    "print(book)"
   ]
  },
  {
   "cell_type": "code",
   "execution_count": null,
   "metadata": {},
   "outputs": [],
   "source": [
    "len(book)"
   ]
  },
  {
   "cell_type": "code",
   "execution_count": null,
   "metadata": {},
   "outputs": [],
   "source": [
    "del(book)"
   ]
  },
  {
   "cell_type": "code",
   "execution_count": null,
   "metadata": {},
   "outputs": [],
   "source": [
    "# __mul__\n",
    "# __init__\n",
    "# __lt__\n",
    "# __str__\n",
    "# __gt__\n",
    "# __del__\n",
    "# __len__\n",
    "# __eq__\n",
    "# __next__\n",
    "# __call__\n",
    "# __get.items__\n",
    "# __add__"
   ]
  },
  {
   "cell_type": "code",
   "execution_count": null,
   "metadata": {},
   "outputs": [],
   "source": []
  }
 ],
 "metadata": {
  "kernelspec": {
   "display_name": "Python 3",
   "language": "python",
   "name": "python3"
  },
  "language_info": {
   "codemirror_mode": {
    "name": "ipython",
    "version": 3
   },
   "file_extension": ".py",
   "mimetype": "text/x-python",
   "name": "python",
   "nbconvert_exporter": "python",
   "pygments_lexer": "ipython3",
   "version": "3.8.5"
  }
 },
 "nbformat": 4,
 "nbformat_minor": 4
}
