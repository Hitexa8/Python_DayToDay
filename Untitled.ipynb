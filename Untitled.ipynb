{
 "cells": [
  {
   "cell_type": "code",
   "execution_count": 8,
   "metadata": {},
   "outputs": [
    {
     "name": "stderr",
     "output_type": "stream",
     "text": [
      "UsageError: %%writefile is a cell magic, but the cell body is empty.\n"
     ]
    }
   ],
   "source": [
    "%%writefile helloo.txt"
   ]
  },
  {
   "cell_type": "markdown",
   "metadata": {},
   "source": [
    "*File Handling"
   ]
  },
  {
   "cell_type": "markdown",
   "metadata": {},
   "source": [
    "-->File is a collection data of text or binary.\n",
    "-->image file,audio files come under binary file."
   ]
  },
  {
   "cell_type": "code",
   "execution_count": null,
   "metadata": {},
   "outputs": [],
   "source": [
    "f=open(r\"C:\\Users\\LJENG\\Desktop\\hello.txt\")\n",
    "f.read()\n",
    "f.close()"
   ]
  },
  {
   "cell_type": "code",
   "execution_count": 10,
   "metadata": {},
   "outputs": [
    {
     "data": {
      "text/plain": [
       "'hellooooooooooo'"
      ]
     },
     "execution_count": 10,
     "metadata": {},
     "output_type": "execute_result"
    }
   ],
   "source": [
    "f=open(\"Desktop/hii.txt\")\n",
    "f.read()\n",
    "# f.close()"
   ]
  },
  {
   "cell_type": "code",
   "execution_count": 11,
   "metadata": {},
   "outputs": [
    {
     "data": {
      "text/plain": [
       "'Sisters and Brothers of America,\\n\\nIt fills my heart with joy unspeakable to rise in response to the warm and cordial welcome which you have given us. I thank you in the name of the most ancient order of monks in the world; I thank you in the name of the mother of religions; and I thank you in the name of the millions and millions of Hindu people of all classes and sects.\\n\\nMy thanks, also, to some of the speakers on this platform who, referring to the delegates from the Orient, have told you that these men from far-off nations may well claim the honour of bearing to different lands the idea of toleration. I am proud to belong to a religion which has taught the world both tolerance and universal acceptance. We believe not only in universal toleration, but we accept all religions as true. I am proud to belong to a nation which has sheltered the persecuted and the refugees of all religions and all nations of the earth. I am proud to tell you that we have gathered in our bosom the purest remnant of the Israelites, who came to southern India and took refuge with us in the very year in which their holy temple was shattered to pieces by Roman tyranny. I am proud to belong to the religion which has sheltered and is still fostering the remnant of the grand Zoroastrian nation. I will quote to you, brethren, a few lines from a hymn which I remember to have repeated from my earliest boyhood, which is every day repeated by millions of human beings: â€˜As the different streams having their sources in different places all mingle their water in the sea, so, O Lord, the different paths which men take through different tendencies, various though they appear, crooked or straight, all lead to Thee.â€™\\n\\nThe present convention, which is one of the most august assemblies ever held, is in itself a vindication, a declaration to the world, of the wonderful doctrine preached in the Gita: â€˜Whosoever comes to Me, through whatsoever form, I reach him; all men are struggling through paths which in the end lead to Me.â€™ Sectarianism, bigotry, and its horrible descendant, fanaticism, have long possessed this beautiful earth. They have filled the earth with violence, drenched it often and often with human blood, destroyed civilization, and sent whole nations to despair. Had it not been for these horrible demons, human society would be far more advanced than it is now. But their time is come; and I fervently hope that the bell that tolled this morning in honour of this convention may be the death-knell of all fanaticism, of all persecutions with the sword or with the pen, and of all uncharitable feelings between persons wending their way to the same goal.\\n'"
      ]
     },
     "execution_count": 11,
     "metadata": {},
     "output_type": "execute_result"
    }
   ],
   "source": [
    "f=open(r\"C:\\Users\\LJENG\\Downloads\\Swami_Vivekananda_speech.txt\")\n",
    "f.read()"
   ]
  },
  {
   "cell_type": "code",
   "execution_count": 5,
   "metadata": {},
   "outputs": [
    {
     "name": "stdout",
     "output_type": "stream",
     "text": [
      "False\n",
      "True\n",
      "a\n",
      "errorfile.txt\n"
     ]
    }
   ],
   "source": [
    "# r mode:it opens a file in read only mode This is a default mode.The file pointer is placed at the beginning of the file.\n",
    "# r+:It Opens a file for reading and writing.The file pointer placed at the beginnig.\n",
    "# w:Opens a file for writing only.It overrides the file if it exist and create a new one if it does not exist.\n",
    "# w+:It opens a file for reading and writing override the existing file if it exist.if it does not then create a file.\n",
    "# a:Opens a file for appending.if the file exist,Pointer is at the end.if the file does not exist it create a file.\n",
    "# a+:Opens a file for appending and reading.The file open in the append mode if the file does not exist it creates a new file.\n",
    "# f=open(\"errorfile.txt\",'r')\n",
    "# f.read()  --->FileNotFoundError: [Errno 2] No such file or directory: 'errorfile.txt'\n",
    "# f=open(\"errorfile.txt\",'w')\n",
    "# f.write(\"errorfree\")\n",
    "f=open(\"errorfile.txt\",'a')\n",
    "f.write(\"end\")\n",
    "f=open(\"errorfile.txt\")\n",
    "f.read()\n",
    "print(f.closed) #False\n",
    "f.close()\n",
    "print(f.closed) #True\n",
    "print(f.mode)\n",
    "print(f.name)\n"
   ]
  },
  {
   "cell_type": "code",
   "execution_count": null,
   "metadata": {},
   "outputs": [],
   "source": []
  }
 ],
 "metadata": {
  "kernelspec": {
   "display_name": "Python 3",
   "language": "python",
   "name": "python3"
  },
  "language_info": {
   "codemirror_mode": {
    "name": "ipython",
    "version": 3
   },
   "file_extension": ".py",
   "mimetype": "text/x-python",
   "name": "python",
   "nbconvert_exporter": "python",
   "pygments_lexer": "ipython3",
   "version": "3.8.5"
  }
 },
 "nbformat": 4,
 "nbformat_minor": 4
}
