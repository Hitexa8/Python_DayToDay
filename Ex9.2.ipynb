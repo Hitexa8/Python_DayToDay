{
 "cells": [
  {
   "cell_type": "markdown",
   "metadata": {},
   "source": [
    "<h1 style=\"background-color: cyan; box-shadow: 0 4px 8px 0 rgba(0, 0, 0, 0.2), 0 6px 20px 0 rgba(0, 0, 0, 0.19); text-align: center;\">Inheritance -single, multi-level and Abstract class</h1>"
   ]
  },
  {
   "cell_type": "markdown",
   "metadata": {},
   "source": [
    "### Exercise 1 : Single Inheritance\n",
    "Question : Create a program with a base class Vehicle and a derived class Car. The Car class should inherit attributes and methods from the Vehicle class. Instantiate both classes and demonstrate the use of inherited features.\n",
    "<!-- <hr __here__>\n",
    "**Solution:**\n",
    "```python\n",
    "class Vehicle:\n",
    "    def __init__(self, brand):\n",
    "        self.brand = brand\n",
    "\n",
    "    def display_info(self):\n",
    "        return f\"Brand: {self.brand}\"\n",
    "\n",
    "class Car(Vehicle):\n",
    "    def __init__(self, brand, model):\n",
    "        super().__init__(brand)\n",
    "        self.model = model\n",
    "\n",
    "    def display_info(self):\n",
    "        return f\"Brand: {self.brand}, Model: {self.model}\"\n",
    "\n",
    "# Instantiate the classes\n",
    "vehicle = Vehicle(\"Generic\")\n",
    "car = Car(\"Toyota\", \"Camry\")\n",
    "\n",
    "# Display information using inherited features\n",
    "print(vehicle.display_info())  # Expected output: Brand: Generic\n",
    "print(car.display_info())      # Expected output: Brand: Toyota, Model: Camry\n",
    "\n",
    "```\n",
    "\n",
    "--- -->"
   ]
  },
  {
   "cell_type": "code",
   "execution_count": 9,
   "metadata": {},
   "outputs": [
    {
     "name": "stdout",
     "output_type": "stream",
     "text": [
      "Brand name is Ford\n",
      "Brand Ford name of car Mustang\n"
     ]
    }
   ],
   "source": [
    "class Vehicle:\n",
    "    def __init__(self,brand):\n",
    "        self.brand=brand\n",
    "    def vehicle_info(self):\n",
    "        print(f\"Brand name is {self.brand}\")\n",
    "class Car(Vehicle):\n",
    "    def __init__(self,brand,model):\n",
    "        super().__init__(brand)\n",
    "        self.model=model\n",
    "    def car_info(self):\n",
    "        print(f\"Brand {self.brand} name of car {self.model}\")\n",
    "v=Vehicle(\"Generic\")\n",
    "c=Car(\"Ford\",\"Mustang\")\n",
    "c.vehicle_info()\n",
    "c.car_info()"
   ]
  },
  {
   "cell_type": "markdown",
   "metadata": {},
   "source": [
    "### Exercise 2: Multi-level Inheritance\n",
    "\n",
    "**Question 2:** Create a program with three classes: Animal, Mammal (inherits from Animal), and Dog (inherits from Mammal). Demonstrate the use of features inherited from both the Animal and Mammal classes.\n",
    "\n",
    "<!-- <hr __here__>\n",
    "**Solution:**\n",
    "```python\n",
    "class Animal:\n",
    "    def speak(self):\n",
    "        return \"Generic animal sound\"\n",
    "\n",
    "class Mammal(Animal):\n",
    "    def give_birth(self):\n",
    "        return \"Live birth\"\n",
    "\n",
    "class Dog(Mammal):\n",
    "    def speak(self):\n",
    "        return \"Woof!\"\n",
    "\n",
    "# Instantiate the classes\n",
    "dog = Dog()\n",
    "\n",
    "# Use features from inherited classes\n",
    "print(dog.speak())         # Expected output: Woof!\n",
    "print(dog.give_birth())    # Expected output: Live birth\n",
    "```\n",
    "\n",
    "---\n",
    "\n",
    " -->"
   ]
  },
  {
   "cell_type": "code",
   "execution_count": null,
   "metadata": {},
   "outputs": [],
   "source": [
    "class Animal:\n",
    "class Mammal(Animal):\n",
    "    "
   ]
  },
  {
   "cell_type": "markdown",
   "metadata": {},
   "source": [
    "### Exercise 3: Abstract Class\n",
    "\n",
    "**Question 3:** Create an abstract class Shape with an abstract method calculate_area(). Implement two derived classes, Circle and Square, each providing their own implementation of the abstract method. Instantiate both derived classes and demonstrate the calculation of their areas.\n",
    "\n",
    "<!-- <hr __here__>\n",
    "\n",
    "<!-- \n",
    "**Solution:**\n",
    "```python\n",
    "from abc import ABC, abstractmethod\n",
    "\n",
    "class Shape(ABC):\n",
    "    @abstractmethod\n",
    "    def calculate_area(self):\n",
    "        pass\n",
    "\n",
    "class Circle(Shape):\n",
    "    def __init__(self, radius):\n",
    "        self.radius = radius\n",
    "\n",
    "    def calculate_area(self):\n",
    "        return 3.14 * self.radius ** 2\n",
    "\n",
    "class Square(Shape):\n",
    "    def __init__(self, side):\n",
    "        self.side = side\n",
    "\n",
    "    def calculate_area(self):\n",
    "        return self.side ** 2\n",
    "\n",
    "# Instantiate the classes\n",
    "circle = Circle(5)\n",
    "square = Square(4)\n",
    "\n",
    "# Calculate and display areas\n",
    "print(\"Circle Area:\", circle.calculate_area())  # Expected output: Circle Area: 78.5\n",
    "print(\"Square Area:\", square.calculate_area())  # Expected output: Square Area: 16\n",
    "\n",
    "``` -->"
   ]
  },
  {
   "cell_type": "code",
   "execution_count": null,
   "metadata": {},
   "outputs": [],
   "source": []
  }
 ],
 "metadata": {
  "kernelspec": {
   "display_name": "Python 3",
   "language": "python",
   "name": "python3"
  },
  "language_info": {
   "codemirror_mode": {
    "name": "ipython",
    "version": 3
   },
   "file_extension": ".py",
   "mimetype": "text/x-python",
   "name": "python",
   "nbconvert_exporter": "python",
   "pygments_lexer": "ipython3",
   "version": "3.8.5"
  }
 },
 "nbformat": 4,
 "nbformat_minor": 5
}
