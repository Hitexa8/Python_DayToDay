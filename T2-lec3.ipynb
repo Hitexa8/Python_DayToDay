{
 "cells": [
  {
   "cell_type": "code",
   "execution_count": null,
   "metadata": {},
   "outputs": [],
   "source": [
    "%%writefile comment.txt\n",
    "# read\n",
    "f=open(\"hello.txt\")\n",
    "# reading\n",
    "f.read()\n",
    "# closing\n",
    "f.close()"
   ]
  },
  {
   "cell_type": "code",
   "execution_count": null,
   "metadata": {},
   "outputs": [],
   "source": [
    "# Write down a program to remove comment lines from program.\n",
    "f=open(\"comment.txt\")\n",
    "output=open(\"output.txt\",'w')\n",
    "while(True):\n",
    "    line=f.readline()\n",
    "    if len(line)!=0:\n",
    "        if line[0]=='#':\n",
    "            continue\n",
    "        else:\n",
    "            if '#' in line:\n",
    "                for index in range(1,len(line)):\n",
    "                    if line[index]=='#':\n",
    "                        output.write(line[0:index])\n",
    "                    else:\n",
    "                        output.write(line)\n",
    "    else:\n",
    "        break\n",
    "output.close()"
   ]
  },
  {
   "cell_type": "code",
   "execution_count": 7,
   "metadata": {},
   "outputs": [
    {
     "name": "stdout",
     "output_type": "stream",
     "text": [
      "Enter the substring: java\n",
      "word not found\n"
     ]
    }
   ],
   "source": [
    "# write a program to check a string in a given line of a file.It should return the line containing the string\n",
    "f=open(\"string.txt\")\n",
    "word=input(\"Enter the substring: \")\n",
    "flag=0\n",
    "for line in f:\n",
    "    for i in line.split():\n",
    "        if i==word:\n",
    "            print(line)\n",
    "            flag=1\n",
    "if flag==0:\n",
    "    print(\"word not found\")"
   ]
  },
  {
   "cell_type": "code",
   "execution_count": null,
   "metadata": {},
   "outputs": [],
   "source": [
    "%%writefile string.txt\n",
    "This is a python\n",
    "programming language"
   ]
  },
  {
   "cell_type": "code",
   "execution_count": null,
   "metadata": {},
   "outputs": [],
   "source": []
  }
 ],
 "metadata": {
  "kernelspec": {
   "display_name": "Python 3",
   "language": "python",
   "name": "python3"
  },
  "language_info": {
   "codemirror_mode": {
    "name": "ipython",
    "version": 3
   },
   "file_extension": ".py",
   "mimetype": "text/x-python",
   "name": "python",
   "nbconvert_exporter": "python",
   "pygments_lexer": "ipython3",
   "version": "3.8.5"
  }
 },
 "nbformat": 4,
 "nbformat_minor": 4
}
